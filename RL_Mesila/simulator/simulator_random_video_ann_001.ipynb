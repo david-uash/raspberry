{
 "cells": [
  {
   "cell_type": "code",
   "execution_count": 5,
   "metadata": {},
   "outputs": [],
   "source": [
    "import math\n",
    "import numpy as np\n",
    "import cv2\n",
    "import matplotlib.pyplot as plt\n",
    "from PIL import Image\n",
    "import random"
   ]
  },
  {
   "cell_type": "code",
   "execution_count": 7,
   "metadata": {},
   "outputs": [],
   "source": [
    "import keras\n",
    "from keras.models import Sequential\n",
    "from keras.layers import Convolution2D \n",
    "from keras.layers import Conv2D\n",
    "from keras.layers import MaxPooling2D\n",
    "from keras.layers import Flatten\n",
    "from keras.layers import Dense"
   ]
  },
  {
   "cell_type": "code",
   "execution_count": 8,
   "metadata": {},
   "outputs": [
    {
     "name": "stdout",
     "output_type": "stream",
     "text": [
      "the prediction for vector is:  [[0.5]]\n"
     ]
    }
   ],
   "source": [
    "### INIT CNN ###\n",
    "vector = np.array((0,0,0))\n",
    "###########\n",
    "### CNN ###\n",
    "###########\n",
    "inputshape = vector.shape\n",
    "model2 = Sequential()\n",
    "model2.add(Dense(12,input_dim=3,activation='relu'))\n",
    "model2.add(Dense(8,activation='relu'))\n",
    "model2.add(Dense(6,activation='relu'))\n",
    "model2.add(Dense(units=1,activation='sigmoid')) #min_value=0, max_value=1\n",
    "#model2.compile(loss='binary_crossentropy',optimizer='adam',metrics=['accuracy'])\n",
    "#model2.compile(loss='CategoricalCrossentropy',optimizer='adam',metrics=['accuracy'])\n",
    "model2.compile(loss='mean_squared_error',optimizer='adam',metrics=['mse'])\n",
    "print(\"the prediction for vector is: \",model2.predict(vector.reshape(1,3)))"
   ]
  },
  {
   "cell_type": "code",
   "execution_count": 2,
   "metadata": {},
   "outputs": [],
   "source": [
    "pole_length = 0.3 #[m]\n",
    "angle=0\n",
    "time_interval = 0.3 #[sec]\n",
    "g=9.8 #[m/s^2]\n",
    "ball_mass = 0.005 #[kg]\n",
    "ball_radius = 0.025 #[m]\n",
    "friction_coefficient = 0.2\n",
    "v0 = 0\n",
    "x0 = 0 #[m]\n",
    "min_angle=-8 #[deg]\n",
    "max_angle=-8 #[deg]\n",
    "height,width=240,640\n",
    "\n",
    "\n",
    "sucess_time = 30 #[sec]\n",
    "gamma = 0.9\n",
    "wins = 0\n",
    "loss = 0\n",
    "x_train,y_train = [],[]\n",
    "i_step_in_current_round = 0 \n",
    "i_step_in_total_from_beginning = 0 \n",
    "num_of_round = 0 \n",
    "\n"
   ]
  },
  {
   "cell_type": "code",
   "execution_count": 3,
   "metadata": {},
   "outputs": [],
   "source": [
    "while(num_of_round<10):\n",
    "    num_of_round++\n",
    "    mystack = [np.ones((height, width)) * 255]\n",
    "    for i in range(0,60):\n",
    "        degree=i\n",
    "        degree= random.randint(-8, 8+1)\n",
    "        #print(\"current degree:\",degree)\n",
    "        angle=math.pi*(degree/180)\n",
    "        acceleration = (3/5)*g*math.sin(angle)\n",
    "        \n",
    "        current_v = v0 + acceleration*time_interval \n",
    "        current_x = x0 + v0*time_interval + (1/2)*acceleration*(time_interval**2)\n",
    "        \n",
    "        \n",
    "        v0 = current_v\n",
    "        x0 = current_x\n",
    "        #print(\"after\",time_interval,\"[sec], at angle=\",angle*180/math.pi,\"[deg], the ball moved to \",current_x)\n",
    "    \n",
    "        normalize_x = 300-current_x*300/1.5\n",
    "        if((normalize_x > 600) or (normalize_x < 10)):\n",
    "            break\n",
    "    \n",
    "        height,width=240,640\n",
    "        length = 610\n",
    "        image = np.ones((height, width)) * 255\n",
    "        #draw line\n",
    "        \n",
    "        x1, y1 = int(width/2), int(height/2)\n",
    "        x2 = x1+int(length/2*math.cos(angle))\n",
    "        y2 = y1+int(length/2*math.sin(angle))\n",
    "        x1,y1 = (x1-int(length/2*math.cos(angle))),(y1-int(length/2*math.sin(angle)))\n",
    "        line_thickness = 2\n",
    "        cv2.line(image, (x1, y1), (x2, y2), (0, 255, 0), thickness=line_thickness)\n",
    "    \n",
    "        M = (y2-y1)/(x2-x1)\n",
    "        y_center_of_circle = M*normalize_x + y1 -M*x1\n",
    "    \n",
    "        #draw circle\n",
    "        radius = 10\n",
    "        center_coordinates = (int(normalize_x),int(y_center_of_circle+radius))\n",
    "        color = (0, 255, 0)\n",
    "        thickness = 2\n",
    "        image = cv2.circle(image, center_coordinates, radius, color, thickness)\n",
    "        \n",
    "        image = np.flip(image)\n",
    "        mystack = np.concatenate((mystack,[image]),axis=0)\n",
    "        \n",
    "    #add to check why game end (30 [sec] or ball dropped)\n",
    "    #add inc to counters\n"
   ]
  },
  {
   "cell_type": "code",
   "execution_count": 4,
   "metadata": {},
   "outputs": [
    {
     "name": "stderr",
     "output_type": "stream",
     "text": [
      "Lossy conversion from float64 to uint8. Range [0.0, 255.0]. Convert image to uint8 prior to saving to suppress this warning.\n",
      "Lossy conversion from float64 to uint8. Range [0.0, 255.0]. Convert image to uint8 prior to saving to suppress this warning.\n",
      "Lossy conversion from float64 to uint8. Range [0.0, 255.0]. Convert image to uint8 prior to saving to suppress this warning.\n",
      "Lossy conversion from float64 to uint8. Range [0.0, 255.0]. Convert image to uint8 prior to saving to suppress this warning.\n",
      "Lossy conversion from float64 to uint8. Range [0.0, 255.0]. Convert image to uint8 prior to saving to suppress this warning.\n",
      "Lossy conversion from float64 to uint8. Range [0.0, 255.0]. Convert image to uint8 prior to saving to suppress this warning.\n",
      "Lossy conversion from float64 to uint8. Range [0.0, 255.0]. Convert image to uint8 prior to saving to suppress this warning.\n",
      "Lossy conversion from float64 to uint8. Range [0.0, 255.0]. Convert image to uint8 prior to saving to suppress this warning.\n",
      "Lossy conversion from float64 to uint8. Range [0.0, 255.0]. Convert image to uint8 prior to saving to suppress this warning.\n",
      "Lossy conversion from float64 to uint8. Range [0.0, 255.0]. Convert image to uint8 prior to saving to suppress this warning.\n",
      "Lossy conversion from float64 to uint8. Range [0.0, 255.0]. Convert image to uint8 prior to saving to suppress this warning.\n",
      "Lossy conversion from float64 to uint8. Range [0.0, 255.0]. Convert image to uint8 prior to saving to suppress this warning.\n",
      "Lossy conversion from float64 to uint8. Range [0.0, 255.0]. Convert image to uint8 prior to saving to suppress this warning.\n",
      "Lossy conversion from float64 to uint8. Range [0.0, 255.0]. Convert image to uint8 prior to saving to suppress this warning.\n"
     ]
    },
    {
     "data": {
      "text/html": [
       "<video src=\"test2.mp4\" controls  width=\"640\"  height=\"480\">\n",
       "      Your browser does not support the <code>video</code> element.\n",
       "    </video>"
      ],
      "text/plain": [
       "<IPython.core.display.Video object>"
      ]
     },
     "execution_count": 4,
     "metadata": {},
     "output_type": "execute_result"
    }
   ],
   "source": [
    "import imageio; \n",
    "from IPython.display import Video; \n",
    "edges = mystack\n",
    "imageio.mimwrite('test2.mp4', edges, fps=7); \n",
    "Video('test2.mp4', width=640, height=480)"
   ]
  }
 ],
 "metadata": {
  "kernelspec": {
   "display_name": "Python 3",
   "language": "python",
   "name": "python3"
  },
  "language_info": {
   "codemirror_mode": {
    "name": "ipython",
    "version": 3
   },
   "file_extension": ".py",
   "mimetype": "text/x-python",
   "name": "python",
   "nbconvert_exporter": "python",
   "pygments_lexer": "ipython3",
   "version": "3.8.3"
  }
 },
 "nbformat": 4,
 "nbformat_minor": 4
}
